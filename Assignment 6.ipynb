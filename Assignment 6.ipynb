{
 "cells": [
  {
   "cell_type": "markdown",
   "metadata": {},
   "source": [
    "# Question 1: Define Object Oriented Programming Language?\n",
    "\n",
    "### OBJECT ORIENTED PROGRAMMING LANGUAGE:\n",
    "             Object-oriented language (OOL) is a high-level computer programming language that implements objects and their associated procedures within the programming context to create software programs.\n",
    "             Object-oriented language uses an object-oriented programming technique that binds related data and functions into an object."
   ]
  },
  {
   "cell_type": "markdown",
   "metadata": {},
   "source": [
    "# Question 2: List down the Benefits of OOP?\n",
    "\n",
    "### BENEFITS OF OOP:\n",
    "1. Modularity for easier trouble shooting.\n",
    "2. Reuse of code through inheritance.\n",
    "3. Effective problem solving.\n",
    "4. Flexibility through polymorphism.\n"
   ]
  },
  {
   "cell_type": "markdown",
   "metadata": {},
   "source": [
    "# Question 3: Differentiate between function and method?\n",
    " \n",
    "### FUNCTION:\n",
    "Function is a sequence of statements that execute in a certain order, given a name. They let us implement code reusability.\n",
    "### METHOD:\n",
    "Method is like a function, except it is attached to an object. We call a method on an object, and it possibly makes changes to that object. A method, then, belongs to a class."
   ]
  },
  {
   "cell_type": "markdown",
   "metadata": {},
   "source": [
    "# Question 4: Define the following terms:\n",
    "# 1. Class\n",
    "# 2. Object\n",
    "# 3. Attribute\n",
    "# 4. Behavior\n",
    "\n",
    "### 1. CLASS:\n",
    "In object-oriented programming, a class is a blueprint for creating objects (a particular data structure), providing initial values for state (member variables or attributes), and implementations of behavior (member functions or methods).\n",
    "### 2. OBJECT :\n",
    "In object-oriented programming (OOP), objects are the things you think about first in designing a program and they are also the units of code that are eventually derived from the process.\n",
    "### 3. ATTRIBUTE:\n",
    "In Object-oriented programming(OOP), classes and objects have attributes. Attributes are data stored inside a class and represent the state or quality of the class.\n",
    "### 4. BEHAVIOR:\n",
    "A class's behavior determines how an instance of that class operates; for example, how it will \"react\" if asked to do something by another class or object or if its internal state changes. \n"
   ]
  },
  {
   "cell_type": "code",
   "execution_count": 8,
   "metadata": {},
   "outputs": [
    {
     "name": "stdout",
     "output_type": "stream",
     "text": [
      "Old name of car1: WX-2314\n",
      "Old color of car2: white\n",
      "Old capacity of car3: 5\n",
      "\n",
      "Modified name of car1: FR-0872\n",
      "Modified color of car2: purple\n",
      "Modified capacity of car3: 7\n"
     ]
    }
   ],
   "source": [
    "\"\"\"Question 5:\n",
    "Write a code in python in which create a class named it Car which have 5 attributes such like (model, color and name etc.) \n",
    "and 3 methods. And create 5 object instance from that class.\"\"\"\n",
    "\n",
    "class Car():\n",
    "    def __init__(self,model,color,name,capacity,make):\n",
    "        self.model = model\n",
    "        self.color = color\n",
    "        self.name = name\n",
    "        self.capacity = capacity\n",
    "        self.make = make\n",
    "    def updateColor(self,newColor):\n",
    "        self.color = newColor\n",
    "    def updateName(self,newName):\n",
    "        self.name = newName\n",
    "    def updateCapacity(self,newCapacity):\n",
    "        self.capacity += newCapacity\n",
    "        \n",
    "car1 = Car(2018,'Black','WX-2314',4,'honda')\n",
    "car2 = Car(2016,'white','BG-4401',5,'toyota')\n",
    "car3 = Car(2015,'yellow','EDCorolla',5,'toyota')\n",
    "car4 = Car(2019,'maroon','civic421',4,'honda')\n",
    "car5 = Car(2011,'Black','alto90',4,'suzuki')\n",
    "\n",
    "print('Old name of car1:',car1.name,)\n",
    "print('Old color of car2:',car2.color)\n",
    "print('Old capacity of car3:',car3.capacity)\n",
    "\n",
    "car1.updateName('FR-0872')\n",
    "print('\\nModified name of car1:',car1.name)\n",
    "\n",
    "car2.updateColor('purple')\n",
    "print('Modified color of car2:',car2.color)\n",
    "\n",
    "car3.updateCapacity(2)\n",
    "print('Modified capacity of car3:',car3.capacity)\n"
   ]
  }
 ],
 "metadata": {
  "kernelspec": {
   "display_name": "Python 3",
   "language": "python",
   "name": "python3"
  },
  "language_info": {
   "codemirror_mode": {
    "name": "ipython",
    "version": 3
   },
   "file_extension": ".py",
   "mimetype": "text/x-python",
   "name": "python",
   "nbconvert_exporter": "python",
   "pygments_lexer": "ipython3",
   "version": "3.7.4"
  }
 },
 "nbformat": 4,
 "nbformat_minor": 2
}
