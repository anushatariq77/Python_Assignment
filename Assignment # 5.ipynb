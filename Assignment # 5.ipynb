{
 "cells": [
  {
   "cell_type": "code",
   "execution_count": 2,
   "metadata": {},
   "outputs": [
    {
     "name": "stdout",
     "output_type": "stream",
     "text": [
      "Enter a number:6\n",
      "720\n"
     ]
    }
   ],
   "source": [
    "#1. Write a Python function to calculate the factorial of a number (a non-negative integer). The function accepts the number as an argument.\n",
    "def factorial(n):\n",
    "    if n == 0:\n",
    "        return 1\n",
    "    else:\n",
    "        return n * factorial(n-1)\n",
    "    \n",
    "n=int(input(\"Enter a number:\"))\n",
    "print(factorial(n))"
   ]
  },
  {
   "cell_type": "code",
   "execution_count": 3,
   "metadata": {},
   "outputs": [
    {
     "name": "stdout",
     "output_type": "stream",
     "text": [
      "Enter the string:My name is Anusha TAriq\n",
      "\n",
      "Original String :  My name is Anusha TAriq\n",
      "No. of Upper case characters :  4\n",
      "No. of Lower case Characters :  15\n"
     ]
    }
   ],
   "source": [
    "#2.Write a Python function that accepts a string and calculate the number of upper case letters and lower case letters.def string_test(s):\n",
    "    \n",
    "def test(x):\n",
    "    d={\"upper\":0, \"lower\":0}\n",
    "    for c in x:\n",
    "        if c.isupper():\n",
    "            d[\"upper\"]+=1\n",
    "        elif c.islower():\n",
    "            d[\"lower\"]+=1\n",
    "        else:\n",
    "            pass\n",
    "    print (\"\\nOriginal String : \", x)\n",
    "    print (\"No. of Upper case characters : \", d[\"upper\"])\n",
    "    print (\"No. of Lower case Characters : \", d[\"lower\"])\n",
    "\n",
    "test(input(\"Enter the string:\"))"
   ]
  },
  {
   "cell_type": "code",
   "execution_count": 5,
   "metadata": {},
   "outputs": [
    {
     "name": "stdout",
     "output_type": "stream",
     "text": [
      "[2, 4, 6, 8, 10, 12]\n"
     ]
    }
   ],
   "source": [
    "#3. Write a Python function to print the even numbers from a given list.\n",
    "def isEven(l):\n",
    "    enum = []\n",
    "    for n in l:\n",
    "        if n % 2 == 0:\n",
    "            enum.append(n)\n",
    "    return enum\n",
    "print(isEven([1, 2, 3, 4, 5, 6, 7, 8, 9,10,11,12]))"
   ]
  },
  {
   "cell_type": "code",
   "execution_count": 11,
   "metadata": {},
   "outputs": [
    {
     "name": "stdout",
     "output_type": "stream",
     "text": [
      "Enter string:madam\n",
      "True\n"
     ]
    }
   ],
   "source": [
    "#4.Write a Python function that checks whether a passed string is palindrome or not.\n",
    "def isPalindrome(string):\n",
    "    left_pos = 0\n",
    "    right_pos = len(string) - 1\n",
    "\n",
    "    while right_pos >= left_pos:\n",
    "        if not string[left_pos] == string[right_pos]:\n",
    "            return False\n",
    "        left_pos += 1\n",
    "        right_pos -= 1\n",
    "    return True\n",
    "\n",
    "print(isPalindrome(input(\"Enter string:\")))"
   ]
  },
  {
   "cell_type": "code",
   "execution_count": 13,
   "metadata": {},
   "outputs": [
    {
     "name": "stdout",
     "output_type": "stream",
     "text": [
      "Enter number:4\n",
      "False\n"
     ]
    }
   ],
   "source": [
    "#5. Write a Python function that takes a number as a parameter and check the number is prime or not.\n",
    "\n",
    "def test_prime(n):\n",
    "    if (n==1):\n",
    "        return False\n",
    "    elif (n==2):\n",
    "        return True;\n",
    "    else:\n",
    "        for x in range(2,n):\n",
    "            if(n % x==0):\n",
    "                return False\n",
    "        return True \n",
    "    \n",
    "print(test_prime(int(input(\"Enter number:\"))))\n",
    "\n"
   ]
  },
  {
   "cell_type": "code",
   "execution_count": 18,
   "metadata": {},
   "outputs": [
    {
     "name": "stdout",
     "output_type": "stream",
     "text": [
      "You have bought the following items:\n",
      "\n",
      "Cereal\n",
      "Cake\n",
      "Bananas\n",
      "Soap\n",
      "Tomatoes\n",
      "Juices\n",
      "Chocolates\n"
     ]
    }
   ],
   "source": [
    " \"\"\"6.Suppose a customer is shopping in a market and you need to print all the items\n",
    "which user bought from market.\n",
    "Write a function which accepts the multiple arguments of user shopping list and\n",
    "print all the items which user bought from market.\"\"\"\n",
    "\n",
    "print(\"You have bought the following items:\\n\")\n",
    "def shopping(*item):\n",
    "    for x in item:\n",
    "         print(x)\n",
    "        \n",
    "shopping(\"Cereal\",\"Cake\",\"Bananas\",\"Soap\",\"Tomatoes\",\"Juices\",\"Chocolates\")"
   ]
  }
 ],
 "metadata": {
  "kernelspec": {
   "display_name": "Python 3",
   "language": "python",
   "name": "python3"
  },
  "language_info": {
   "codemirror_mode": {
    "name": "ipython",
    "version": 3
   },
   "file_extension": ".py",
   "mimetype": "text/x-python",
   "name": "python",
   "nbconvert_exporter": "python",
   "pygments_lexer": "ipython3",
   "version": "3.7.4"
  }
 },
 "nbformat": 4,
 "nbformat_minor": 2
}
