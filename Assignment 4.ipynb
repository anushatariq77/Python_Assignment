{
 "cells": [
  {
   "cell_type": "code",
   "execution_count": 4,
   "metadata": {},
   "outputs": [
    {
     "name": "stdout",
     "output_type": "stream",
     "text": [
      "{'first_name': 'Anusha', 'last_name': 'Tariq', 'age': 20, 'city': 'Karachi', 'qualification': 'intermediate'}\n",
      "{'first_name': 'Anusha', 'last_name': 'Tariq', 'age': 20, 'city': 'Karachi', 'qualification': 'graduate'}\n",
      "{'first_name': 'Anusha', 'last_name': 'Tariq', 'age': 20, 'city': 'Karachi'}\n"
     ]
    }
   ],
   "source": [
    "\"\"\"Q1. Use a dictionary to store information about a person you know. Store their first name, last name, age,\n",
    "and the city in which they live. You should have keys such as first_name, last_name, age, and city. Print\n",
    "each piece of information stored in your dictionary. Add a new key value pair about qualification then\n",
    "update the qualification value to high academic level then delete it.\n",
    "\"\"\"\n",
    "person = {\n",
    "    'first_name': 'Anusha',\n",
    "    'last_name': 'Tariq',\n",
    "    'age': 20,\n",
    "    'city': 'Karachi',\n",
    "}\n",
    " \n",
    "#adding qualification\n",
    "person['qualification'] = 'intermediate'\n",
    "print(person)\n",
    "\n",
    "#updating qualification\n",
    "person['qualification'] = 'graduate'\n",
    "print(person)\n",
    "\n",
    "#deleting qualification\n",
    "del person['qualification']\n",
    "print(person)\n"
   ]
  },
  {
   "cell_type": "code",
   "execution_count": 15,
   "metadata": {},
   "outputs": [
    {
     "name": "stdout",
     "output_type": "stream",
     "text": [
      "Karachi\n",
      "Karachi is the city of Pakistan with a population of about 20000000.It is the largest city of Pakistan.\n",
      "\n",
      "Lahore\n",
      "Lahore is the city of Pakistan with a population of about 142339.It is the capital city of Province Punjab.\n",
      "\n",
      "Islamabad\n",
      "Islamabad is the city of Pakistan with a population of about 223161.It is the capital city of Pakistan.\n",
      "\n"
     ]
    }
   ],
   "source": [
    "\"\"\"Q2. Make a dictionary called cities. Use the names of three cities as keys in your dictionary. Create a\n",
    "dictionary of information about each city and include the country that the city is in, its approximate\n",
    "population, and one fact about that city. The keys for each city’s dictionary should be something like\n",
    "country, population, and fact. Print the name of each city and all of the information you have stored\n",
    "about it.\"\"\"\n",
    "\n",
    "cities = {\n",
    "    'karachi' : {\n",
    "        'country' :'Pakistan',\n",
    "        'population' : 20000000,\n",
    "        'fact' : 'the largest city of Pakistan.',\n",
    "    },\n",
    "    'lahore' : {\n",
    "        'country' : 'Pakistan',\n",
    "        'population' : 142339,\n",
    "        'fact' : 'the capital city of Province Punjab.',\n",
    "    },\n",
    "    'islamabad' : {\n",
    "        'country' : 'Pakistan',\n",
    "        'population' : 223161,\n",
    "        'fact' : 'the capital city of Pakistan.',\n",
    "    }\n",
    "}\n",
    "\n",
    "for city,info in cities.items():\n",
    "    a = info['country']\n",
    "    b = info['population']\n",
    "    c = info['fact']\n",
    "\n",
    "    print(city.title()+'\\n' + city.title() + ' is the city of ' + a + ' with a population of about ' + str(b) + '.It is ' + c + '\\n')\n"
   ]
  },
  {
   "cell_type": "code",
   "execution_count": 16,
   "metadata": {},
   "outputs": [
    {
     "name": "stdout",
     "output_type": "stream",
     "text": [
      "Enter your age or write 'quit' to exit:2\n",
      "You are free to enter!\n",
      "Enter your age or write 'quit' to exit:4\n",
      "Your ticket cost is $10.\n",
      "Enter your age or write 'quit' to exit:20\n",
      "Your ticket cost is $15.\n",
      "Enter your age or write 'quit' to exit:quit\n"
     ]
    }
   ],
   "source": [
    "\"\"\"Q3. A movie theater charges different ticket prices depending on a person’s age. If a person is under the age\n",
    "of 3, the ticket is free; if they are between 3 and 12, the ticket is $10; and if they are over age 12, the\n",
    "ticket is $15. Write a loop in which you ask users their age, and then tell them the cost of their movie\n",
    "ticket.\"\"\"\n",
    "\n",
    "user_input = \"\"\n",
    "while user_input != \"quit\":\n",
    "    user_input = input(\"Enter your age or write 'quit' to exit:\")\n",
    "    if user_input == \"quit\":\n",
    "        break\n",
    "    \n",
    "    if int(user_input)<3:\n",
    "        print(\"You are free to enter!\")\n",
    "    elif (int(user_input)>3 and int(user_input)<12):\n",
    "        print(\"Your ticket cost is $10.\")\n",
    "    elif int(user_input)>12:\n",
    "        print(\"Your ticket cost is $15.\")\n",
    "        "
   ]
  },
  {
   "cell_type": "code",
   "execution_count": 18,
   "metadata": {},
   "outputs": [
    {
     "name": "stdout",
     "output_type": "stream",
     "text": [
      "Forty rules of love is my favourite book.\n"
     ]
    }
   ],
   "source": [
    "\"\"\"Q4. Write a function called favorite_book() that accepts one parameter, title. The function should print a\n",
    "message, such as One of my favorite books is Alice in Wonderland. Call the function, making sure to\n",
    "include a book title as an argument in the function call.\"\"\"\n",
    "\n",
    "def favourite_book(title):\n",
    "    print(title + \" \" + \"is my favourite book.\")\n",
    "    \n",
    "favourite_book(\"Forty rules of love\")\n",
    "    "
   ]
  },
  {
   "cell_type": "code",
   "execution_count": null,
   "metadata": {},
   "outputs": [],
   "source": [
    "\"\"\"Q5. Write a program which randomly generate a number between 1 to 30 and ask the user in input field to\n",
    "guess the correct number. Give three chances to user guess the number and also give hint to user if\n",
    "hidden number is greater or smaller than the number he given to input field.\"\"\"\n",
    "\n",
    "import random\n",
    "guesses = 0\n",
    "number = random.randint(1, 30)\n",
    "while guesses < 3:\n",
    "    num = input('Guess a number between 1 t0 30.') \n",
    "    guesses += 1\n",
    "    \n",
    "    if int(num) < number:\n",
    "        print(\"too low\")\n",
    "    elif int(num)> number:\n",
    "        print(\"too high\")\n",
    "    elif int(num) == number:\n",
    "        print(\"Your guess is right!You won.\")\n",
    "        break\n",
    "    \n",
    "    \n",
    "if int(num) != number:\n",
    "    print(\"You've lost. Try agian! \\n The right number was\" + str(number))\n",
    "        "
   ]
  },
  {
   "cell_type": "code",
   "execution_count": null,
   "metadata": {},
   "outputs": [],
   "source": []
  },
  {
   "cell_type": "code",
   "execution_count": null,
   "metadata": {},
   "outputs": [],
   "source": []
  }
 ],
 "metadata": {
  "kernelspec": {
   "display_name": "Python 3",
   "language": "python",
   "name": "python3"
  },
  "language_info": {
   "codemirror_mode": {
    "name": "ipython",
    "version": 3
   },
   "file_extension": ".py",
   "mimetype": "text/x-python",
   "name": "python",
   "nbconvert_exporter": "python",
   "pygments_lexer": "ipython3",
   "version": "3.7.4"
  }
 },
 "nbformat": 4,
 "nbformat_minor": 2
}
