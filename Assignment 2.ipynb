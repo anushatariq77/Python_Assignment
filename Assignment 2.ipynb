{
 "cells": [
  {
   "cell_type": "code",
   "execution_count": 24,
   "metadata": {},
   "outputs": [
    {
     "name": "stdout",
     "output_type": "stream",
     "text": [
      "Enter marks of the first subject:3\n",
      "Enter marks of the second subject:34\n",
      "Enter marks of the third subject:43\n",
      "Enter marks of the fourth subject:12\n",
      "Enter marks of the fifth subject:4\n",
      "Grade: A\n"
     ]
    }
   ],
   "source": [
    "#1. Write a program which takes 5 inputs from user for different subject’s marks, total it and generate mark sheet using grades ?\n",
    "a =int(input(\"Enter marks of the first subject:\"))\n",
    "b =int(input(\"Enter marks of the second subject:\"))\n",
    "c =int(input(\"Enter marks of the third subject:\"))\n",
    "d =int(input(\"Enter marks of the fourth subject:\"))\n",
    "e =int(input(\"Enter marks of the fifth subject:\"))\n",
    "sum = a + b + c + d + e\n",
    "if(sum >=90):\n",
    "    print(\"Grade: A\")\n",
    "elif(sum >=80 and sum<90):\n",
    "    print(\"Grade: B\")\n",
    "elif(sum >=70 and sum <80):\n",
    "    print(\"Grade: C\")\n",
    "elif(sum >=60 and sum <70):\n",
    "    print(\"Grade: D\")\n",
    "else:\n",
    "    print(\"Grade: F\")"
   ]
  },
  {
   "cell_type": "code",
   "execution_count": 25,
   "metadata": {},
   "outputs": [
    {
     "name": "stdout",
     "output_type": "stream",
     "text": [
      "Enter a number:4\n",
      "The number is EVEN!\n"
     ]
    }
   ],
   "source": [
    "#2. Write a program which take input from user and identify that the given number is even or odd?\n",
    "x = int(input(\"Enter a number:\"))\n",
    "if(x % 2 == 0):\n",
    "    print(\"The number is EVEN!\")\n",
    "else:\n",
    "    print(\"The number is ODD!\")"
   ]
  },
  {
   "cell_type": "code",
   "execution_count": 9,
   "metadata": {},
   "outputs": [
    {
     "name": "stdout",
     "output_type": "stream",
     "text": [
      "The length of the list is: 6\n"
     ]
    }
   ],
   "source": [
    "#3. Write a program which print the length of the list?\n",
    "a = [1,2,3,4,5,7]\n",
    "b = len(a)\n",
    "print(\"The length of the list is:\", b)"
   ]
  },
  {
   "cell_type": "code",
   "execution_count": 12,
   "metadata": {},
   "outputs": [
    {
     "name": "stdout",
     "output_type": "stream",
     "text": [
      "The sum of the list is: 46\n"
     ]
    }
   ],
   "source": [
    "#4. Write a Python program to sum all the numeric items in a list?\n",
    "y = [1,2,3,40]\n",
    "sum = y[0]+y[1]+y[2]+y[3]\n",
    "print(\"The sum of the list is:\" , sum)\n"
   ]
  },
  {
   "cell_type": "code",
   "execution_count": 14,
   "metadata": {},
   "outputs": [
    {
     "name": "stdout",
     "output_type": "stream",
     "text": [
      "The largest number of the list is: 16\n"
     ]
    }
   ],
   "source": [
    "#5. Write a Python program to get the largest number from a numeric list.\n",
    "list = [4,9,7,1,16]\n",
    "b = max(list)\n",
    "print(\"The largest number of the list is:\" , b)"
   ]
  },
  {
   "cell_type": "code",
   "execution_count": 23,
   "metadata": {},
   "outputs": [
    {
     "name": "stdout",
     "output_type": "stream",
     "text": [
      "[1, 1, 2, 3]\n"
     ]
    }
   ],
   "source": [
    "#6. Take a list, say for example this one:a = [1, 1, 2, 3, 5, 8, 13, 21, 34, 55, 89] and write a program that prints out all the elements of the list that are less than 5.\n",
    "a = [1, 1, 2, 3, 5, 8, 13, 21, 34, 55, 89]\n",
    "b = []\n",
    "\n",
    "for i in a:\n",
    "    if i < 5:\n",
    "        b.append(i)\n",
    "        \n",
    "print(b)\n"
   ]
  },
  {
   "cell_type": "code",
   "execution_count": null,
   "metadata": {},
   "outputs": [],
   "source": []
  }
 ],
 "metadata": {
  "kernelspec": {
   "display_name": "Python 3",
   "language": "python",
   "name": "python3"
  },
  "language_info": {
   "codemirror_mode": {
    "name": "ipython",
    "version": 3
   },
   "file_extension": ".py",
   "mimetype": "text/x-python",
   "name": "python",
   "nbconvert_exporter": "python",
   "pygments_lexer": "ipython3",
   "version": "3.7.4"
  }
 },
 "nbformat": 4,
 "nbformat_minor": 2
}
