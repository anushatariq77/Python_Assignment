{
 "cells": [
  {
   "cell_type": "code",
   "execution_count": 5,
   "metadata": {},
   "outputs": [
    {
     "name": "stdout",
     "output_type": "stream",
     "text": [
      "Enter the first number:2\n",
      "Enter your desired operator:**\n",
      "Enter the second number:4\n",
      "16 is the answer\n"
     ]
    }
   ],
   "source": [
    "#1. Make a calculator using Python with addition , subtraction , multiplication ,division and power.\n",
    "a = int(input(\"Enter the first number:\"))\n",
    "b = input(\"Enter your desired operator:\")\n",
    "c = int(input(\"Enter the second number:\"))\n",
    "if b == '+':\n",
    "        d = a + c\n",
    "        print(d,\"is the answer\")\n",
    "elif b == '-':\n",
    "        d = a - c\n",
    "        print(d,\"is the answer\")\n",
    "elif b == '*':\n",
    "        d = a * c\n",
    "        print(d,\"is the answer\")\n",
    "elif b == '/':\n",
    "        d = a / c\n",
    "        print(d,\"is the answer\")\n",
    "elif b == '**':\n",
    "        d = a ** c\n",
    "        print(d,\"is the answer\")\n",
    "else:\n",
    "        print(\"Invalid operator!\") \n",
    "        "
   ]
  },
  {
   "cell_type": "code",
   "execution_count": 6,
   "metadata": {},
   "outputs": [
    {
     "name": "stdout",
     "output_type": "stream",
     "text": [
      "The list contains following numeric values:\n",
      "1\n",
      "2\n",
      "4\n",
      "7\n"
     ]
    }
   ],
   "source": [
    "#2. Write a program to check if there is any numeric value in list using for loop.\n",
    "list = [1,2,\"age\",4,\"gender\", \"address\",7]\n",
    "print(\"The list contains following numeric values:\")\n",
    "\n",
    "for a in list:\n",
    "    if type(a) == int:\n",
    "        print(a)"
   ]
  },
  {
   "cell_type": "code",
   "execution_count": 7,
   "metadata": {},
   "outputs": [
    {
     "name": "stdout",
     "output_type": "stream",
     "text": [
      "Before adding a new key\n",
      " {'firstname': 'Anusha', 'lastname': 'Tariq', 'age': 20}\n",
      "\n",
      "After adding a new key\n",
      " {'firstname': 'Anusha', 'lastname': 'Tariq', 'age': 20, 'address': 'Karachi'}\n"
     ]
    }
   ],
   "source": [
    "#3. Write a Python script to add a key to a dictionary.\n",
    "person = { \"firstname\":\"Anusha\",\n",
    "           \"lastname\":\"Tariq\",\n",
    "        \"age\": 20 }\n",
    "\n",
    "print(\"Before adding a new key\\n\",person) \n",
    "\n",
    "person[\"address\"] = \"Karachi\"\n",
    "print(\"\\nAfter adding a new key\\n\", person)"
   ]
  },
  {
   "cell_type": "code",
   "execution_count": 9,
   "metadata": {},
   "outputs": [
    {
     "name": "stdout",
     "output_type": "stream",
     "text": [
      "The sum of the values is: 60\n"
     ]
    }
   ],
   "source": [
    "#4. Write a Python program to sum all the numeric items in a dictionary.\n",
    "dict = {\"a\": 10, \"b\":20, \"c\":30}\n",
    "sum = 0\n",
    "for a in dict.values():\n",
    "    sum = sum + a \n",
    "\n",
    "print(\"The sum of the values is:\", sum)"
   ]
  },
  {
   "cell_type": "code",
   "execution_count": 10,
   "metadata": {},
   "outputs": [
    {
     "name": "stdout",
     "output_type": "stream",
     "text": [
      "[1, 2, 4, 5]\n"
     ]
    }
   ],
   "source": [
    "#5. Write a program to identify duplicate values from list.\n",
    "list = [1,3,2,1,5,6,4,8,5,4,2,9,10]\n",
    "list.sort()\n",
    "new = []\n",
    "for i in range(len(list) -1):\n",
    "    if list[i] == list[i+1]:\n",
    "         new.append(list[i])\n",
    "\n",
    "print(new) "
   ]
  },
  {
   "cell_type": "code",
   "execution_count": 13,
   "metadata": {},
   "outputs": [
    {
     "name": "stdout",
     "output_type": "stream",
     "text": [
      "Enter the value of key:3\n",
      "The key already exists in dictionary.\n"
     ]
    }
   ],
   "source": [
    "#6. Write a Python script to check if a given key already exists in a dictionary.\n",
    "key = int(input(\"Enter the value of key:\"))\n",
    "dict = {1: \"a\", 2:\"b\",3:\"c\"}\n",
    "for x in dict.keys():\n",
    "    if key == x:\n",
    "        print(\"The key already exists in dictionary.\")\n",
    "        break \n",
    "        \n",
    "else:\n",
    "    print(\"The key doesn't exist in dictionary'.\")\n",
    "        "
   ]
  }
 ],
 "metadata": {
  "kernelspec": {
   "display_name": "Python 3",
   "language": "python",
   "name": "python3"
  },
  "language_info": {
   "codemirror_mode": {
    "name": "ipython",
    "version": 3
   },
   "file_extension": ".py",
   "mimetype": "text/x-python",
   "name": "python",
   "nbconvert_exporter": "python",
   "pygments_lexer": "ipython3",
   "version": "3.7.4"
  }
 },
 "nbformat": 4,
 "nbformat_minor": 2
}
